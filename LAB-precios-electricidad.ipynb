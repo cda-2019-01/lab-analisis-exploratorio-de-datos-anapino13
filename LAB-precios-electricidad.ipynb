{
 "cells": [
  {
   "cell_type": "markdown",
   "metadata": {},
   "source": [
    "Evolución de los Precios de la Electricidad\n",
    "==="
   ]
  },
  {
   "cell_type": "markdown",
   "metadata": {},
   "source": [
    "# Instrucciones"
   ]
  },
  {
   "cell_type": "markdown",
   "metadata": {},
   "source": [
    "En el archivo `precios.zip`  se encuentran los archivos `Precio_Bolsa_Nacional_($kwh)_ano.xls` en formato de Microsoft Excel, los cuales contienen los precios históricos horarios de la electricidad para el mercado eléctrico Colombiano entre los años 1995 y 2017 en COL-PESOS/kWh. A partir de la información suministrada realice las siguientes actividades. "
   ]
  },
  {
   "cell_type": "markdown",
   "metadata": {},
   "source": [
    "**1.--** Lea los archivos y cree una tabla única concatenando la información para cada uno de los años. Debe transformar la tabla de tal forma que quede con las columnas `Fecha`, `Hora` y `Precio` (únicamente tres columnas)."
   ]
  },
  {
   "cell_type": "code",
   "execution_count": 128,
   "metadata": {},
   "outputs": [],
   "source": [
    "#Import librerias\n",
    "from zipfile import ZipFile\n",
    "import pandas as pd\n",
    "import matplotlib.pyplot as plt\n",
    "import datetime\n",
    "import numpy as np"
   ]
  },
  {
   "cell_type": "code",
   "execution_count": 222,
   "metadata": {},
   "outputs": [
    {
     "data": {
      "text/html": [
       "<div>\n",
       "<style scoped>\n",
       "    .dataframe tbody tr th:only-of-type {\n",
       "        vertical-align: middle;\n",
       "    }\n",
       "\n",
       "    .dataframe tbody tr th {\n",
       "        vertical-align: top;\n",
       "    }\n",
       "\n",
       "    .dataframe thead th {\n",
       "        text-align: right;\n",
       "    }\n",
       "</style>\n",
       "<table border=\"1\" class=\"dataframe\">\n",
       "  <thead>\n",
       "    <tr style=\"text-align: right;\">\n",
       "      <th></th>\n",
       "      <th>Fecha</th>\n",
       "      <th>Hora</th>\n",
       "      <th>Precio</th>\n",
       "    </tr>\n",
       "  </thead>\n",
       "  <tbody>\n",
       "    <tr>\n",
       "      <td>0</td>\n",
       "      <td>1996-01-01</td>\n",
       "      <td>0</td>\n",
       "      <td>25.000000</td>\n",
       "    </tr>\n",
       "    <tr>\n",
       "      <td>1</td>\n",
       "      <td>1996-01-02</td>\n",
       "      <td>0</td>\n",
       "      <td>10.000000</td>\n",
       "    </tr>\n",
       "    <tr>\n",
       "      <td>2</td>\n",
       "      <td>1996-01-03</td>\n",
       "      <td>0</td>\n",
       "      <td>12.000000</td>\n",
       "    </tr>\n",
       "    <tr>\n",
       "      <td>3</td>\n",
       "      <td>1996-01-04</td>\n",
       "      <td>0</td>\n",
       "      <td>12.800000</td>\n",
       "    </tr>\n",
       "    <tr>\n",
       "      <td>4</td>\n",
       "      <td>1996-01-05</td>\n",
       "      <td>0</td>\n",
       "      <td>18.000000</td>\n",
       "    </tr>\n",
       "    <tr>\n",
       "      <td>...</td>\n",
       "      <td>...</td>\n",
       "      <td>...</td>\n",
       "      <td>...</td>\n",
       "    </tr>\n",
       "    <tr>\n",
       "      <td>362539</td>\n",
       "      <td>2004-12-27</td>\n",
       "      <td>23</td>\n",
       "      <td>67.431239</td>\n",
       "    </tr>\n",
       "    <tr>\n",
       "      <td>362540</td>\n",
       "      <td>2004-12-28</td>\n",
       "      <td>23</td>\n",
       "      <td>65.931239</td>\n",
       "    </tr>\n",
       "    <tr>\n",
       "      <td>362541</td>\n",
       "      <td>2004-12-29</td>\n",
       "      <td>23</td>\n",
       "      <td>65.931239</td>\n",
       "    </tr>\n",
       "    <tr>\n",
       "      <td>362542</td>\n",
       "      <td>2004-12-30</td>\n",
       "      <td>23</td>\n",
       "      <td>67.431239</td>\n",
       "    </tr>\n",
       "    <tr>\n",
       "      <td>362543</td>\n",
       "      <td>2004-12-31</td>\n",
       "      <td>23</td>\n",
       "      <td>69.431239</td>\n",
       "    </tr>\n",
       "  </tbody>\n",
       "</table>\n",
       "<p>362544 rows × 3 columns</p>\n",
       "</div>"
      ],
      "text/plain": [
       "             Fecha Hora     Precio\n",
       "0       1996-01-01    0  25.000000\n",
       "1       1996-01-02    0  10.000000\n",
       "2       1996-01-03    0  12.000000\n",
       "3       1996-01-04    0  12.800000\n",
       "4       1996-01-05    0  18.000000\n",
       "...            ...  ...        ...\n",
       "362539  2004-12-27   23  67.431239\n",
       "362540  2004-12-28   23  65.931239\n",
       "362541  2004-12-29   23  65.931239\n",
       "362542  2004-12-30   23  67.431239\n",
       "362543  2004-12-31   23  69.431239\n",
       "\n",
       "[362544 rows x 3 columns]"
      ]
     },
     "execution_count": 222,
     "metadata": {},
     "output_type": "execute_result"
    }
   ],
   "source": [
    "precios = pd.DataFrame()\n",
    "\n",
    "archivos= ZipFile('precios.zip')\n",
    "\n",
    "for datos in archivos.infolist():\n",
    "    if (datos.filename.endswith('.xlsx') and not(datos.filename.startswith('__MACOSX'))):\n",
    "        d = pd.read_excel(archivos.open(datos.filename), header=2)\n",
    "        if d.columns[0].startswith('Unname'):\n",
    "            nheader = d.iloc[0]\n",
    "            d = d[1:]\n",
    "            d = d.rename(columns = nheader)\n",
    "        d = d.iloc[:,0:25]\n",
    "        precios = precios.append(d)\n",
    "df = pd.melt(precios,id_vars='Fecha',var_name = 'Hora', value_name = 'Precio')\n",
    "df.columns = ['Fecha','Hora','Precio']\n",
    "df\n"
   ]
  },
  {
   "cell_type": "markdown",
   "metadata": {},
   "source": [
    "**2.--** Compute e imprima el número de registros con datos faltantes."
   ]
  },
  {
   "cell_type": "code",
   "execution_count": 223,
   "metadata": {},
   "outputs": [
    {
     "name": "stdout",
     "output_type": "stream",
     "text": [
      "registros faltantes:  181510\n"
     ]
    }
   ],
   "source": [
    "df_datosfaltantes = df[df.Precio.notnull()]\n",
    "print('registros faltantes: ', len(df) - len(df_datosfaltantes))"
   ]
  },
  {
   "cell_type": "markdown",
   "metadata": {},
   "source": [
    "**3.--** Compute e imprima el número de registros duplicados."
   ]
  },
  {
   "cell_type": "code",
   "execution_count": 224,
   "metadata": {},
   "outputs": [
    {
     "name": "stdout",
     "output_type": "stream",
     "text": [
      "Registros duplicados 3919\n"
     ]
    }
   ],
   "source": [
    "df['Fecha'] = pd.to_datetime(df['Fecha'])\n",
    "df = df.sort_values('Fecha', ascending = True)\n",
    "df['duplicados'] = df['Fecha'].map(str) +'-'+ df['Hora'].map(str) +'-'+ df['Precio'].map(str) \n",
    "reg_duplicados = df[df.duplicated(['duplicados'])]\n",
    "print('Registros duplicados', len(reg_duplicados))"
   ]
  },
  {
   "cell_type": "markdown",
   "metadata": {},
   "source": [
    "**4.--** Elimine los registros con datos duplicados o datos faltantes, e imprima la cantidad de registros que quedan (registros completos)."
   ]
  },
  {
   "cell_type": "code",
   "execution_count": 226,
   "metadata": {},
   "outputs": [
    {
     "data": {
      "text/plain": [
       "179275"
      ]
     },
     "execution_count": 226,
     "metadata": {},
     "output_type": "execute_result"
    }
   ],
   "source": [
    "df = df[df.Precio.notnull()]\n",
    "df = df[df.Fecha.notnull()]\n",
    "df = df.drop_duplicates()\n",
    "len(df)"
   ]
  },
  {
   "cell_type": "markdown",
   "metadata": {},
   "source": [
    "**5.--** Compute y grafique el precio primedio diario."
   ]
  },
  {
   "cell_type": "code",
   "execution_count": 227,
   "metadata": {},
   "outputs": [
    {
     "data": {
      "text/plain": [
       "Text(0.5, 0, 'Días')"
      ]
     },
     "execution_count": 227,
     "metadata": {},
     "output_type": "execute_result"
    },
    {
     "data": {
      "image/png": "[encoded data removed]",
      "text/plain": [
       "<Figure size 720x360 with 1 Axes>"
      ]
     },
     "metadata": {
      "needs_background": "light"
     },
     "output_type": "display_data"
    }
   ],
   "source": [
    "df['mes'] = pd.DatetimeIndex(df['Fecha']).month\n",
    "df['dias'] = pd.DatetimeIndex(df['Fecha']).day\n",
    "df.set_index(df[\"Fecha\"],inplace=True)\n",
    "dfdia = df.groupby('dias').mean()['Precio']\n",
    "dfmes = df.groupby('mes').mean()['Precio']\n",
    "plt.figure(figsize=(10,5))\n",
    "plt.bar(range(len(dfdia)), dfdia, color= \"pink\")\n",
    "plt.ylim(50,110) \n",
    "plt.xticks(range(len(dfdia)), list(dfdia.index), rotation='vertical')\n",
    "plt.title('Precio Promedio Diario')\n",
    "plt.xlabel('Días')"
   ]
  },
  {
   "cell_type": "markdown",
   "metadata": {},
   "source": [
    "**6.--** Compute y grafique el precio máximo por mes."
   ]
  },
  {
   "cell_type": "code",
   "execution_count": 228,
   "metadata": {},
   "outputs": [
    {
     "data": {
      "image/png": "[encoded data removed]",
      "text/plain": [
       "<Figure size 720x360 with 1 Axes>"
      ]
     },
     "metadata": {
      "needs_background": "light"
     },
     "output_type": "display_data"
    }
   ],
   "source": [
    "plt.figure(figsize=(10,5))\n",
    "plt.bar(range(len(dfmesmax)), dfmesmax,color= \"orange\")\n",
    "plt.xticks(range(len(dfmesmax)), list(dfmesmax.index), rotation='vertical')\n",
    "plt.title('Precio Máximo')\n",
    "plt.xlabel('Meses');"
   ]
  },
  {
   "cell_type": "markdown",
   "metadata": {},
   "source": [
    "**7.--** Compute y grafique el precio mínimo mensual."
   ]
  },
  {
   "cell_type": "code",
   "execution_count": 229,
   "metadata": {},
   "outputs": [
    {
     "data": {
      "image/png": "[encoded data removed]",
      "text/plain": [
       "<Figure size 360x360 with 1 Axes>"
      ]
     },
     "metadata": {
      "needs_background": "light"
     },
     "output_type": "display_data"
    }
   ],
   "source": [
    "\n",
    "plt.figure(figsize=(5,5))\n",
    "plt.bar(range(len(dfmesmin)), dfmesmin,color= \"purple\",)\n",
    "plt.ylim(0.7,1.3) \n",
    "plt.xticks(range(len(dfmesmin)), list(dfmesmin.index), rotation='vertical')\n",
    "plt.title('Precio Mínimo')\n",
    "plt.xlabel('Meses');"
   ]
  },
  {
   "cell_type": "markdown",
   "metadata": {},
   "source": [
    "**8.--** Haga un gráfico para comparar el precio máximo del mes (para cada mes) y el precio promedio mensual."
   ]
  },
  {
   "cell_type": "code",
   "execution_count": 230,
   "metadata": {},
   "outputs": [
    {
     "data": {
      "text/plain": [
       "Text(0, 0.5, 'Mes')"
      ]
     },
     "execution_count": 230,
     "metadata": {},
     "output_type": "execute_result"
    },
    {
     "data": {
      "image/png": "[encoded data removed]",
      "text/plain": [
       "<Figure size 1440x720 with 2 Axes>"
      ]
     },
     "metadata": {
      "needs_background": "light"
     },
     "output_type": "display_data"
    }
   ],
   "source": [
    "plt.figure(figsize=(20, 10))\n",
    "plt.subplot(1, 2, 1)\n",
    "plt.barh(range(len(dfmes)), dfmes,color= \"grey\")\n",
    "plt.yticks(range(len(dfmes)), list(dfmes.index), rotation='horizontal')\n",
    "plt.title('Promedio por Mes')\n",
    "plt.xlabel('Promedio por Mes')\n",
    "plt.ylabel('Mes')\n",
    "plt.subplot(1, 2, 2)\n",
    "plt.barh(range(len(dfmesmax)), dfmesmax,color= \"yellow\")\n",
    "plt.yticks(range(len(dfmesmax)), list(dfmesmax.index), rotation='horizontal')\n",
    "plt.title('Precio máximo')\n",
    "plt.xlabel('Precio máximo')\n",
    "plt.ylabel('Mes')"
   ]
  },
  {
   "cell_type": "code",
   "execution_count": null,
   "metadata": {},
   "outputs": [],
   "source": [
    "09.-- Haga un histograma que muestre a que horas se produce el máximo precio diario para los días laborales."
   ]
  },
  {
   "cell_type": "code",
   "execution_count": 267,
   "metadata": {},
   "outputs": [
    {
     "data": {
      "text/plain": [
       "Text(0, 0.5, 'Ocurrencias')"
      ]
     },
     "execution_count": 267,
     "metadata": {},
     "output_type": "execute_result"
    },
    {
     "data": {
      "image/png": "[encoded data removed]",
      "text/plain": [
       "<Figure size 720x360 with 1 Axes>"
      ]
     },
     "metadata": {
      "needs_background": "light"
     },
     "output_type": "display_data"
    }
   ],
   "source": [
    "dias_laborales = df.copy()\n",
    "dias_laborales = dias_laborales.drop(columns=['Fecha', 'duplicados'])\n",
    "dias_laborales.reset_index(inplace=True)\n",
    "dias_laborales['Nombre_Dia'] =  dias_laborales[['Fecha']].apply(lambda x: datetime.datetime.strftime(x['Fecha'], '%A'), axis=1)\n",
    "week_days = ['Monday', 'Tuesday', 'Wednesday', 'Thursday', 'Friday']\n",
    "df_weekdays = dias_laborales[(dias_laborales['Nombre_Dia'] == 'Monday') | (dias_laborales['Nombre_Dia'] == 'Tuesday')| (dias_laborales['Nombre_Dia'] == 'Wednesday')| (dias_laborales['Nombre_Dia'] == 'Thursday')| (dias_laborales['Nombre_Dia'] == 'Friday')]\n",
    "dias_laborales = df_weekdays.groupby('Fecha').agg({'Precio': np.max}) \n",
    "dias_laborales.reset_index(inplace=True)\n",
    "df3 = pd.merge(df_weekdays, dias_laborales, on=['Fecha','Precio'], how='inner')\n",
    "hours = list(map(int,df3['Hora'].tolist()))\n",
    "plt.figure(figsize=(10, 5))\n",
    "plt.hist(hours, bins = 24,range = (0,24),color = \"Red\")\n",
    "plt.xticks(range(23))\n",
    "plt.ylim(0,4000) \n",
    "plt.title('Precio maximo por horas en dias laborales')\n",
    "plt.xlabel('Horas')\n",
    "plt.ylabel('Ocurrencias')"
   ]
  },
  {
   "cell_type": "markdown",
   "metadata": {},
   "source": [
    "**10.--** Haga un histograma que muestre a que horas se produce el máximo precio diario para los días sabado."
   ]
  },
  {
   "cell_type": "code",
   "execution_count": 274,
   "metadata": {},
   "outputs": [
    {
     "data": {
      "text/plain": [
       "Text(0, 0.5, 'Ocurrencia')"
      ]
     },
     "execution_count": 274,
     "metadata": {},
     "output_type": "execute_result"
    },
    {
     "data": {
      "image/png": "[encoded data removed]",
      "text/plain": [
       "<Figure size 720x360 with 1 Axes>"
      ]
     },
     "metadata": {
      "needs_background": "light"
     },
     "output_type": "display_data"
    }
   ],
   "source": [
    "dia_sabado = df.copy()\n",
    "dia_sabado = dia_sabado.drop(columns=['Fecha', 'duplicados'])\n",
    "dia_sabado.reset_index(inplace=True)\n",
    "dia_sabado['Nombre_Dia'] =  dia_sabado[['Fecha']].apply(lambda x: datetime.datetime.strftime(x['Fecha'], '%A'), axis=1)\n",
    "df_weekdays = dia_sabado[(dia_sabado['Nombre_Dia'] == 'Saturday') ]\n",
    "dia_sabado = df_weekdays.groupby('Fecha').agg({'Precio': np.max}) \n",
    "dia_sabado.reset_index(inplace=True)\n",
    "df3 = pd.merge(df_weekdays, dia_sabado, on=['Fecha','Precio'], how='inner')\n",
    "hours = list(map(int,df3['Hora'].tolist()))\n",
    "plt.figure(figsize=(10, 5))\n",
    "plt.hist(hours,color = \"black\")\n",
    "plt.xticks(range(23))\n",
    "plt.ylim(0,1750) \n",
    "plt.title('Precio maximo por horas el dia sabado')\n",
    "plt.xlabel('Horas')\n",
    "plt.ylabel('Ocurrencia')"
   ]
  },
  {
   "cell_type": "markdown",
   "metadata": {},
   "source": [
    "**11.--** Haga un histograma que muestre a que horas se produce el máximo precio diario para los días domingo."
   ]
  },
  {
   "cell_type": "code",
   "execution_count": 288,
   "metadata": {},
   "outputs": [
    {
     "data": {
      "text/plain": [
       "Text(0, 0.5, 'Cantidad')"
      ]
     },
     "execution_count": 288,
     "metadata": {},
     "output_type": "execute_result"
    },
    {
     "data": {
      "image/png": "[encoded data removed]",
      "text/plain": [
       "<Figure size 1080x216 with 1 Axes>"
      ]
     },
     "metadata": {
      "needs_background": "light"
     },
     "output_type": "display_data"
    }
   ],
   "source": [
    "precio_domingo = df.copy()\n",
    "precio_domingo = precio_domingo.drop(columns=['Fecha', 'duplicados'])\n",
    "precio_domingo.reset_index(inplace=True)\n",
    "precio_domingo['Nombre_Dia'] =  precio_domingo[['Fecha']].apply(lambda x: datetime.datetime.strftime(x['Fecha'], '%A'), axis=1)\n",
    "df_weekdays = precio_domingo[(precio_domingo['Nombre_Dia'] == 'Sunday') ]\n",
    "precio_domingo = df_weekdays.groupby('Fecha').agg({'Precio': np.max}) \n",
    "precio_domingo.reset_index(inplace=True)\n",
    "df3 = pd.merge(df_weekdays, precio_domingo, on=['Fecha','Precio'], how='inner')\n",
    "hours = list(map(int,df3['Hora'].tolist()))\n",
    "plt.figure(figsize=(15, 3))\n",
    "plt.hist(hours,color = \"blue\")\n",
    "plt.xticks(range(23))\n",
    "plt.ylim(0,1600) \n",
    "plt.title('Precio maximo por horas el dia domingo')\n",
    "plt.xlabel('Horas')\n",
    "plt.ylabel('Cantidad')"
   ]
  },
  {
   "cell_type": "markdown",
   "metadata": {},
   "source": [
    "**12.--** Imprima una tabla con la fecha y el valor más bajo por año del precio de bolsa."
   ]
  },
  {
   "cell_type": "code",
   "execution_count": 293,
   "metadata": {},
   "outputs": [
    {
     "data": {
      "text/html": [
       "<div>\n",
       "<style scoped>\n",
       "    .dataframe tbody tr th:only-of-type {\n",
       "        vertical-align: middle;\n",
       "    }\n",
       "\n",
       "    .dataframe tbody tr th {\n",
       "        vertical-align: top;\n",
       "    }\n",
       "\n",
       "    .dataframe thead th {\n",
       "        text-align: right;\n",
       "    }\n",
       "</style>\n",
       "<table border=\"1\" class=\"dataframe\">\n",
       "  <thead>\n",
       "    <tr style=\"text-align: right;\">\n",
       "      <th></th>\n",
       "      <th>Fecha</th>\n",
       "      <th>Precio más Bajo</th>\n",
       "    </tr>\n",
       "  </thead>\n",
       "  <tbody>\n",
       "    <tr>\n",
       "      <td>156</td>\n",
       "      <td>1995-07-26</td>\n",
       "      <td>0.000000</td>\n",
       "    </tr>\n",
       "    <tr>\n",
       "      <td>17430</td>\n",
       "      <td>1997-07-15</td>\n",
       "      <td>10.882310</td>\n",
       "    </tr>\n",
       "    <tr>\n",
       "      <td>26046</td>\n",
       "      <td>1998-07-09</td>\n",
       "      <td>13.847330</td>\n",
       "    </tr>\n",
       "    <tr>\n",
       "      <td>32332</td>\n",
       "      <td>1999-03-28</td>\n",
       "      <td>18.359530</td>\n",
       "    </tr>\n",
       "    <tr>\n",
       "      <td>41039</td>\n",
       "      <td>2000-03-25</td>\n",
       "      <td>21.531167</td>\n",
       "    </tr>\n",
       "  </tbody>\n",
       "</table>\n",
       "</div>"
      ],
      "text/plain": [
       "           Fecha  Precio más Bajo\n",
       "156   1995-07-26         0.000000\n",
       "17430 1997-07-15        10.882310\n",
       "26046 1998-07-09        13.847330\n",
       "32332 1999-03-28        18.359530\n",
       "41039 2000-03-25        21.531167"
      ]
     },
     "execution_count": 293,
     "metadata": {},
     "output_type": "execute_result"
    }
   ],
   "source": [
    "precio_bajo = df.copy()\n",
    "precio_bajo = precio_bajo.drop(columns=['Fecha', 'duplicados', 'mes'])\n",
    "precio_bajo.reset_index(inplace=True)\n",
    "precio_bajo['Year'] =  precio_bajo[['Fecha']].apply(lambda x: datetime.datetime.strftime(x['Fecha'], '%Y'), axis=1)\n",
    "precio_bajo_año = precio_bajo.groupby('Year').agg({'Precio': np.min}) \n",
    "precio_bajo_año.reset_index(inplace=True)\n",
    "precio_bajo_año.columns = [\"Year\",\"Precio más Bajo\"]\n",
    "final = pd.merge(precio_bajo_año, precio_bajo, on = ['Year'], how ='inner')\n",
    "final = final[(final['Precio más Bajo'] == final['Precio'])]\n",
    "final = final[['Fecha','Precio más Bajo']].drop_duplicates(subset='Precio más Bajo', keep=\"first\")\n",
    "final.head()"
   ]
  },
  {
   "cell_type": "markdown",
   "metadata": {},
   "source": [
    "**13.--** Haga una gráfica en que se muestre el precio promedio diario y el precio promedio mensual."
   ]
  },
  {
   "cell_type": "code",
   "execution_count": 305,
   "metadata": {},
   "outputs": [
    {
     "data": {
      "image/png": "[encoded data removed]",
      "text/plain": [
       "<Figure size 720x432 with 1 Axes>"
      ]
     },
     "metadata": {
      "needs_background": "light"
     },
     "output_type": "display_data"
    }
   ],
   "source": [
    "Promedio_diario = df[['Fecha','Precio']].groupby(by = pd.Grouper(key='Fecha', freq='D')).mean()\n",
    "Promedio_mensual = df[['Fecha','Precio']].groupby(by = pd.Grouper(key='Fecha', freq='M')).mean()\n",
    "plt.figure(figsize=(10,6))\n",
    "plt.plot(Promedio_diario, color = \"Red\")\n",
    "plt.plot(Promedio_mensual,color = \"Blue\")\n",
    "plt.legend(['Diario','Mensual'])\n",
    "plt.title('Precio promedio diario vs Precio promedio mensual') \n",
    "plt.ylabel('Precio Promedio')\n",
    "plt.xlabel('Año')\n",
    "plt.show()"
   ]
  },
  {
   "cell_type": "markdown",
   "metadata": {},
   "source": [
    "---"
   ]
  }
 ],
 "metadata": {
  "anaconda-cloud": {},
  "kernel_info": {
   "name": "python3"
  },
  "kernelspec": {
   "display_name": "Python 3",
   "language": "python",
   "name": "python3"
  },
  "language_info": {
   "codemirror_mode": {
    "name": "ipython",
    "version": 3
   },
   "file_extension": ".py",
   "mimetype": "text/x-python",
   "name": "python",
   "nbconvert_exporter": "python",
   "pygments_lexer": "ipython3",
   "version": "3.7.4"
  },
  "nteract": {
   "version": "0.7.1"
  }
 },
 "nbformat": 4,
 "nbformat_minor": 4
}

